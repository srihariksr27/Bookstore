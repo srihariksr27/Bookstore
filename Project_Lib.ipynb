{
 "cells": [
  {
   "cell_type": "code",
   "execution_count": null,
   "metadata": {},
   "outputs": [],
   "source": []
  },
  {
   "cell_type": "code",
   "execution_count": 25,
   "metadata": {},
   "outputs": [
    {
     "name": "stdout",
     "output_type": "stream",
     "text": [
      "want to enter data yes/no: yes\n",
      "Enter book id: 4\n",
      "Enter book name: DSA\n",
      "Enter author name: Geeksforgeeks\n",
      "Enter price of book: 398\n",
      "data add successfully\n",
      "want to enter data yes/no: yes\n",
      "Enter book id: 5\n",
      "Enter book name: Digital electronics\n",
      "Enter author name: Tutorialspoint\n",
      "Enter price of book: 500\n",
      "data add successfully\n",
      "want to enter data yes/no: yes\n",
      "Enter book id: 6\n",
      "Enter book name: C++\n",
      "Enter author name: Abdul bari\n",
      "Enter price of book: 400\n",
      "data add successfully\n",
      "want to enter data yes/no: yes\n",
      "Enter book id: 7\n",
      "Enter book name: Introduction to Data Science\n",
      "Enter author name: Code Basics\n",
      "Enter price of book: 100\n",
      "data add successfully\n",
      "want to enter data yes/no: yes\n",
      "Enter book id: 8\n",
      "Enter book name: Internet of things\n",
      "Enter author name: Cisco\n",
      "Enter price of book: 125\n",
      "data add successfully\n",
      "want to enter data yes/no: yes\n",
      "Enter book id: 9\n",
      "Enter book name: Machine Learning\n",
      "Enter author name: Codebasics\n",
      "Enter price of book: 400\n",
      "data add successfully\n",
      "want to enter data yes/no: yes\n",
      "Enter book id: 10\n",
      "Enter book name: Martian\n",
      "Enter author name: Christopher nolan\n",
      "Enter price of book: 700\n",
      "data add successfully\n",
      "want to enter data yes/no: no\n"
     ]
    }
   ],
   "source": [
    "import sqlite3\n",
    "book=sqlite3.connect(\"bookstore.db\")\n",
    "curbook=book.cursor()\n",
    "#curbook.execute('''create table books (book_id integer  primary key autoincrement , book_name text(20), author text(20), price integer);''')\n",
    "\n",
    "while True:\n",
    "    x=input(\"want to enter data yes/no: \")\n",
    "    if x=='yes':\n",
    "        book_id=int(input(\"Enter book id: \"))\n",
    "        book_name=input(\"Enter book name: \")\n",
    "        author=input(\"Enter author name: \")\n",
    "        price=input(\"Enter price of book: \")\n",
    "        curbook.execute(\"insert into books (book_id,book_name,author, price) values(?,?,?,?);\",(book_id,book_name,author, price))\n",
    "        book.commit()\n",
    "        print(\"data add successfully\")\n",
    "\n",
    "    else:\n",
    "        break"
   ]
  },
  {
   "cell_type": "code",
   "execution_count": 29,
   "metadata": {},
   "outputs": [
    {
     "name": "stdout",
     "output_type": "stream",
     "text": [
      "Book Title:  Martian\n",
      "(10, 'Martian', 'Christopher nolan', 700)\n",
      "No. of copies: 2\n",
      "Add more books? Y/N Y\n",
      "Book Title:  Digital electronics\n",
      "(5, 'Digital electronics', 'Tutorialspoint', 500)\n",
      "No. of copies: 1\n",
      "Add more books? Y/N Y\n",
      "Book Title:  Machine Learning\n",
      "(9, 'Machine Learning', 'Codebasics', 400)\n",
      "No. of copies: 2\n",
      "Add more books? Y/N N\n",
      "Total Cost 2700\n",
      "enter to exit\n"
     ]
    }
   ],
   "source": [
    "import sqlite3\n",
    "book=sqlite3.connect(\"bookstore.db\")\n",
    "curbook=book.cursor()\n",
    "total_price=0\n",
    "while True:\n",
    "    bt=input(\"Book Title:  \")\n",
    "    sql=\"select *from books where book_name='\"+bt+\"';\"\n",
    "    curbook.execute(sql)\n",
    "    record=curbook.fetchone()\n",
    "    print(record)\n",
    "    n=int(input(\"No. of copies: \"))\n",
    "    total_price=total_price+record[3]*n\n",
    "    add_book=input(\"Add more books? Y/N \")\n",
    "    if add_book=='N':\n",
    "        break\n",
    "print(\"Total Cost {}\".format(total_price))\n",
    "n=input(\"enter to exit\")\n",
    "book.close()"
   ]
  },
  {
   "cell_type": "code",
   "execution_count": null,
   "metadata": {},
   "outputs": [],
   "source": []
  },
  {
   "cell_type": "code",
   "execution_count": null,
   "metadata": {},
   "outputs": [],
   "source": []
  },
  {
   "cell_type": "code",
   "execution_count": null,
   "metadata": {},
   "outputs": [],
   "source": []
  }
 ],
 "metadata": {
  "kernelspec": {
   "display_name": "Python 3",
   "language": "python",
   "name": "python3"
  },
  "language_info": {
   "codemirror_mode": {
    "name": "ipython",
    "version": 3
   },
   "file_extension": ".py",
   "mimetype": "text/x-python",
   "name": "python",
   "nbconvert_exporter": "python",
   "pygments_lexer": "ipython3",
   "version": "3.8.5"
  }
 },
 "nbformat": 4,
 "nbformat_minor": 4
}
